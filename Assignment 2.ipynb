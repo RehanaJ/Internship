{
 "cells": [
  {
   "cell_type": "markdown",
   "id": "4e31eb21",
   "metadata": {},
   "source": [
    "# Question#1"
   ]
  },
  {
   "cell_type": "code",
   "execution_count": 2,
   "id": "aba97196",
   "metadata": {},
   "outputs": [
    {
     "name": "stdout",
     "output_type": "stream",
     "text": [
      "Python:Exercises::PHP:exercises:\n"
     ]
    }
   ],
   "source": [
    " def replace_chars(text):\n",
    "  for char in [' ', ',', '.']:\n",
    "      text = text.replace(char, ':')\n",
    "  return text\n",
    "\n",
    "sample_text = 'Python Exercises, PHP exercises.'\n",
    "result = replace_chars(sample_text)\n",
    "print(result)"
   ]
  },
  {
   "cell_type": "markdown",
   "id": "aa9f7948",
   "metadata": {},
   "source": [
    "# Question#2"
   ]
  },
  {
   "cell_type": "code",
   "execution_count": 3,
   "id": "57bbde75",
   "metadata": {},
   "outputs": [
    {
     "name": "stdout",
     "output_type": "stream",
     "text": [
      "            SUMMARY\n",
      "0       hello world\n",
      "1        XXXXX test\n",
      "2  123four five six\n"
     ]
    }
   ],
   "source": [
    "import pandas as pd\n",
    "import re\n",
    "\n",
    "data = {'SUMMARY': ['hello, world!', 'XXXXX test', '123four, five:; six...']}\n",
    "df = pd.DataFrame(data)\n",
    "\n",
    "# Function to remove everything except words\n",
    "def remove_punctuation(text):\n",
    "    return re.sub(r'[^\\w\\s]', '', text)\n",
    "\n",
    "# Apply the function to the 'SUMMARY' column\n",
    "df['SUMMARY'] = df['SUMMARY'].apply(remove_punctuation)\n",
    "\n",
    "print(df)"
   ]
  },
  {
   "cell_type": "markdown",
   "id": "23ce3012",
   "metadata": {},
   "source": [
    "# Question#3"
   ]
  },
  {
   "cell_type": "code",
   "execution_count": 6,
   "id": "1531f16e",
   "metadata": {},
   "outputs": [
    {
     "name": "stdout",
     "output_type": "stream",
     "text": [
      "['This', 'sample', 'text', 'with', 'some', 'long', 'words', 'like', 'Python', 'programming', 'computer']\n"
     ]
    }
   ],
   "source": [
    "import re\n",
    "\n",
    "def find_long_words(text):\n",
    "    pattern = re.compile(r'\\b\\w{4,}\\b')\n",
    "    return pattern.findall(text)\n",
    "\n",
    "text = \"This is a sample text with some long words like Python, programming, and computer.\"\n",
    "long_words = find_long_words(text)\n",
    "print(long_words)"
   ]
  },
  {
   "cell_type": "markdown",
   "id": "0ff03a9f",
   "metadata": {},
   "source": [
    "# Question#4"
   ]
  },
  {
   "cell_type": "code",
   "execution_count": 8,
   "id": "2fa8d40c",
   "metadata": {},
   "outputs": [
    {
     "name": "stdout",
     "output_type": "stream",
     "text": [
      "['This', 'text', 'with', 'some', 'words', 'like', 'cat', 'dog', 'house', 'and', 'apple']\n"
     ]
    }
   ],
   "source": [
    "import re\n",
    "\n",
    "def find_specific_length_words(text):\n",
    "    pattern = re.compile(r'\\b\\w{3,5}\\b')\n",
    "    return pattern.findall(text)\n",
    "\n",
    "text = \"This is a sample text with some words of various lengths like cat, dog, house, and apple.\"\n",
    "specific_length_words = find_specific_length_words(text)\n",
    "print(specific_length_words)"
   ]
  },
  {
   "cell_type": "markdown",
   "id": "45e3a4df",
   "metadata": {},
   "source": [
    "# Question 5"
   ]
  },
  {
   "cell_type": "code",
   "execution_count": 9,
   "id": "9f65d073",
   "metadata": {},
   "outputs": [
    {
     "name": "stdout",
     "output_type": "stream",
     "text": [
      "example\n",
      "hr@fliprobo\n",
      "github\n",
      "Hello\n",
      "Data\n"
     ]
    }
   ],
   "source": [
    "import re\n",
    "\n",
    "def remove_parentheses(strings):\n",
    "    pattern = re.compile(r'\\([^)]*\\)')\n",
    "    return [pattern.sub('', s).strip() for s in strings]\n",
    "\n",
    "sample_text = [\"example (.com)\", \"hr@fliprobo (.com)\", \"github (.com)\", \"Hello (Data Science World)\", \"Data (Scientist)\"]\n",
    "output = remove_parentheses(sample_text)\n",
    "for item in output:\n",
    "    print(item)"
   ]
  },
  {
   "cell_type": "markdown",
   "id": "60c7c896",
   "metadata": {},
   "source": [
    "# Question 6"
   ]
  },
  {
   "cell_type": "code",
   "execution_count": 37,
   "id": "fab097c8",
   "metadata": {},
   "outputs": [
    {
     "name": "stdout",
     "output_type": "stream",
     "text": [
      "Output has been written to 'output.txt'.\n"
     ]
    }
   ],
   "source": [
    "import pandas as pd\n",
    "\n",
    "def remove_parentheses(text):\n",
    "    pattern = re.compile(r'\\([^)]*\\)')\n",
    "    return pattern.sub('', text).strip()\n",
    "\n",
    "\n",
    "with open('coding.txt', 'r') as file:\n",
    "    lines = file.readlines()\n",
    "\n",
    "modified_lines = [remove_parentheses(line) for line in lines]\n",
    "\n",
    "\n",
    "with open('output.txt', 'w') as file:\n",
    "    for line in modified_lines:\n",
    "        file.write(line + '\\n')\n",
    "\n",
    "print(\"Output has been written to 'output.txt'.\")"
   ]
  },
  {
   "cell_type": "markdown",
   "id": "1fd153cc",
   "metadata": {},
   "source": [
    "# Question 7"
   ]
  },
  {
   "cell_type": "code",
   "execution_count": 13,
   "id": "7b63efc7",
   "metadata": {},
   "outputs": [
    {
     "name": "stdout",
     "output_type": "stream",
     "text": [
      "['Importance', 'Of', 'Regular', 'Expressions', 'In', 'Python']\n"
     ]
    }
   ],
   "source": [
    "import re\n",
    "\n",
    "sample_text = \"ImportanceOfRegularExpressionsInPython\"\n",
    "\n",
    "pattern = re.compile(r'[A-Z][a-z]*')\n",
    "\n",
    "result = pattern.findall(sample_text)\n",
    "\n",
    "print(result)"
   ]
  },
  {
   "cell_type": "markdown",
   "id": "eed78ce4",
   "metadata": {},
   "source": [
    "# Question 8"
   ]
  },
  {
   "cell_type": "code",
   "execution_count": 16,
   "id": "43ad6072",
   "metadata": {},
   "outputs": [
    {
     "name": "stdout",
     "output_type": "stream",
     "text": [
      "RegularExpression1 IsAn2 ImportantTopic3 InPython\n"
     ]
    }
   ],
   "source": [
    "# import re\n",
    "\n",
    "def insert_spaces(text):\n",
    "    result = re.sub(r'(\\d)([A-Za-z])', r'\\1 \\2', text)\n",
    "    return result\n",
    "\n",
    "\n",
    "sample_text = \"RegularExpression1IsAn2ImportantTopic3InPython\"\n",
    "\n",
    "output = insert_spaces(sample_text)\n",
    "print(output)"
   ]
  },
  {
   "cell_type": "markdown",
   "id": "61168cb7",
   "metadata": {},
   "source": [
    "# Question 9"
   ]
  },
  {
   "cell_type": "code",
   "execution_count": 15,
   "id": "7e41feef",
   "metadata": {},
   "outputs": [
    {
     "name": "stdout",
     "output_type": "stream",
     "text": [
      "RegularExpression1 IsAn2 ImportantTopic3 InPython\n"
     ]
    }
   ],
   "source": [
    "import re\n",
    "\n",
    "def insert_spaces(text):\n",
    "    result = re.sub(r'(?<=[A-Z0-9])(?=[A-Z][a-z])|(?<=[0-9])(?=[A-Za-z])', ' ', text)\n",
    "    return result\n",
    "\n",
    "\n",
    "sample_text = \"RegularExpression1IsAn2ImportantTopic3InPython\"\n",
    "\n",
    "output = insert_spaces(sample_text)\n",
    "print(output)"
   ]
  },
  {
   "cell_type": "markdown",
   "id": "6d33f8f5",
   "metadata": {},
   "source": [
    "# Question 10"
   ]
  },
  {
   "cell_type": "markdown",
   "id": "4cef2a93",
   "metadata": {},
   "source": [
    "[Link to My Code on GitHub](https://raw.githubusercontent.com/dsrscientist/DSData/master/happiness_score_dataset.csv)"
   ]
  },
  {
   "cell_type": "code",
   "execution_count": 42,
   "id": "cf18ab56",
   "metadata": {},
   "outputs": [
    {
     "name": "stdout",
     "output_type": "stream",
     "text": [
      "         Country                           Region  Happiness Rank  \\\n",
      "0    Switzerland                   Western Europe               1   \n",
      "1        Iceland                   Western Europe               2   \n",
      "2        Denmark                   Western Europe               3   \n",
      "3         Norway                   Western Europe               4   \n",
      "4         Canada                    North America               5   \n",
      "..           ...                              ...             ...   \n",
      "153       Rwanda               Sub-Saharan Africa             154   \n",
      "154        Benin               Sub-Saharan Africa             155   \n",
      "155        Syria  Middle East and Northern Africa             156   \n",
      "156      Burundi               Sub-Saharan Africa             157   \n",
      "157         Togo               Sub-Saharan Africa             158   \n",
      "\n",
      "     Happiness Score  Standard Error  Economy (GDP per Capita)   Family  \\\n",
      "0              7.587         0.03411                   1.39651  1.34951   \n",
      "1              7.561         0.04884                   1.30232  1.40223   \n",
      "2              7.527         0.03328                   1.32548  1.36058   \n",
      "3              7.522         0.03880                   1.45900  1.33095   \n",
      "4              7.427         0.03553                   1.32629  1.32261   \n",
      "..               ...             ...                       ...      ...   \n",
      "153            3.465         0.03464                   0.22208  0.77370   \n",
      "154            3.340         0.03656                   0.28665  0.35386   \n",
      "155            3.006         0.05015                   0.66320  0.47489   \n",
      "156            2.905         0.08658                   0.01530  0.41587   \n",
      "157            2.839         0.06727                   0.20868  0.13995   \n",
      "\n",
      "     Health (Life Expectancy)  Freedom  Trust (Government Corruption)  \\\n",
      "0                     0.94143  0.66557                        0.41978   \n",
      "1                     0.94784  0.62877                        0.14145   \n",
      "2                     0.87464  0.64938                        0.48357   \n",
      "3                     0.88521  0.66973                        0.36503   \n",
      "4                     0.90563  0.63297                        0.32957   \n",
      "..                        ...      ...                            ...   \n",
      "153                   0.42864  0.59201                        0.55191   \n",
      "154                   0.31910  0.48450                        0.08010   \n",
      "155                   0.72193  0.15684                        0.18906   \n",
      "156                   0.22396  0.11850                        0.10062   \n",
      "157                   0.28443  0.36453                        0.10731   \n",
      "\n",
      "     Generosity  Dystopia Residual first_five_letters  \n",
      "0       0.29678            2.51738              Switz  \n",
      "1       0.43630            2.70201              Icela  \n",
      "2       0.34139            2.49204              Denma  \n",
      "3       0.34699            2.46531              Norwa  \n",
      "4       0.45811            2.45176              Canad  \n",
      "..          ...                ...                ...  \n",
      "153     0.22628            0.67042              Rwand  \n",
      "154     0.18260            1.63328              Benin  \n",
      "155     0.47179            0.32858              Syria  \n",
      "156     0.19727            1.83302              Burun  \n",
      "157     0.16681            1.56726               Togo  \n",
      "\n",
      "[158 rows x 13 columns]\n"
     ]
    }
   ],
   "source": [
    "import pandas as pd\n",
    "\n",
    "github_link = \"https://raw.githubusercontent.com/dsrscientist/DSData/master/happiness_score_dataset.csv\"\n",
    "df = pd.read_csv(github_link)\n",
    "\n",
    "df['first_five_letters'] = df['Country'].str[:5]\n",
    "\n",
    "print(df)\n"
   ]
  },
  {
   "cell_type": "markdown",
   "id": "5a26513d",
   "metadata": {},
   "source": [
    "# Question 11"
   ]
  },
  {
   "cell_type": "code",
   "execution_count": 20,
   "id": "0f67d27d",
   "metadata": {},
   "outputs": [
    {
     "name": "stdout",
     "output_type": "stream",
     "text": [
      "Hello123: Matches\n",
      "world: Matches\n",
      "Python_123: Matches\n",
      "!!!: Does not match\n",
      "hello_world: Matches\n"
     ]
    }
   ],
   "source": [
    "def match_string(text):\n",
    "    allowed_characters = set('abcdefghijklmnopqrstuvwxyzABCDEFGHIJKLMNOPQRSTUVWXYZ0123456789_')\n",
    "    for char in text:\n",
    "        if char not in allowed_characters:\n",
    "            return False\n",
    "    return True\n",
    "\n",
    "\n",
    "sample_strings = [\"Hello123\", \"world\", \"Python_123\", \"!!!\", \"hello_world\"]\n",
    "for string in sample_strings:\n",
    "    if match_string(string):\n",
    "        print(f\"{string}: Matches\")\n",
    "    else:\n",
    "        print(f\"{string}: Does not match\")"
   ]
  },
  {
   "cell_type": "markdown",
   "id": "324c0751",
   "metadata": {},
   "source": [
    "# Question 12"
   ]
  },
  {
   "cell_type": "code",
   "execution_count": 21,
   "id": "b9fa6202",
   "metadata": {},
   "outputs": [
    {
     "name": "stdout",
     "output_type": "stream",
     "text": [
      "The string '123abc' starts with the number 123.\n"
     ]
    }
   ],
   "source": [
    "def starts_with_number(string, number):\n",
    "    number_str = str(number)\n",
    "\n",
    "    if string.startswith(number_str):\n",
    "        return True\n",
    "    else:\n",
    "        return False\n",
    "\n",
    "test_string = \"123abc\"\n",
    "test_number = 123\n",
    "\n",
    "if starts_with_number(test_string, test_number):\n",
    "    print(f\"The string '{test_string}' starts with the number {test_number}.\")\n",
    "else:\n",
    "    print(f\"The string '{test_string}' does not start with the number {test_number}.\")"
   ]
  },
  {
   "cell_type": "markdown",
   "id": "f9ec1aba",
   "metadata": {},
   "source": [
    "# Question 13"
   ]
  },
  {
   "cell_type": "code",
   "execution_count": 22,
   "id": "fcaaada9",
   "metadata": {},
   "outputs": [
    {
     "name": "stdout",
     "output_type": "stream",
     "text": [
      "Original IP Address: 192.168.001.001\n",
      "IP Address without Leading Zeros: 192.168.1.1\n"
     ]
    }
   ],
   "source": [
    "def remove_leading_zeros(ip_address):\n",
    "    \n",
    "    octets = ip_address.split('.')\n",
    "    \n",
    "    octets = [str(int(octet)) for octet in octets]\n",
    "\n",
    "    new_ip_address = '.'.join(octets)\n",
    "\n",
    "    return new_ip_address\n",
    "\n",
    "ip_address = \"192.168.001.001\"\n",
    "new_ip_address = remove_leading_zeros(ip_address)\n",
    "print(\"Original IP Address:\", ip_address)\n",
    "print(\"IP Address without Leading Zeros:\", new_ip_address)"
   ]
  },
  {
   "cell_type": "markdown",
   "id": "c9f57996",
   "metadata": {},
   "source": [
    "# Question 14"
   ]
  },
  {
   "cell_type": "code",
   "execution_count": 41,
   "id": "65e6defb",
   "metadata": {},
   "outputs": [
    {
     "name": "stdout",
     "output_type": "stream",
     "text": [
      "Date found in the file: August 15th 1947\n"
     ]
    }
   ],
   "source": [
    "import re\n",
    "\n",
    "def find_dates_in_file(file_path):\n",
    "        # Regular expression pattern for matching dates\n",
    "        pattern = re.compile(r'\\b(January|February|March|April|May|June|July|August|September|October|November|December)\\s+\\d{1,2}(?:st|nd|rd|th)?\\s+\\d{4}\\b')\n",
    "\n",
    "        # Open the file and read its contents\n",
    "        with open(file_path, 'r') as file:\n",
    "            text = file.read()\n",
    "\n",
    "        # Find the first occurrence of the pattern in the text\n",
    "        match = pattern.search(text)\n",
    "        if match:\n",
    "            return match.group(0)\n",
    "        else:\n",
    "            return \"Date not found in the file.\"\n",
    "\n",
    "    # Example usage:\n",
    "file_path = 'question.txt'  # Replace 'sample_text.txt' with the path to your text file\n",
    "date_found = find_dates_in_file(file_path)\n",
    "print(\"Date found in the file:\", date_found)"
   ]
  },
  {
   "cell_type": "markdown",
   "id": "e5310df9",
   "metadata": {},
   "source": [
    "# Question 15"
   ]
  },
  {
   "cell_type": "code",
   "execution_count": 26,
   "id": "60c69e02",
   "metadata": {},
   "outputs": [
    {
     "name": "stdout",
     "output_type": "stream",
     "text": [
      "Found words: ['fox', 'dog']\n"
     ]
    }
   ],
   "source": [
    "def search_words(sample_text, searched_words):\n",
    "    found_words = []\n",
    "    for word in searched_words:\n",
    "        if word in sample_text:\n",
    "            found_words.append(word)\n",
    "    return found_words\n",
    "\n",
    "# Sample text\n",
    "sample_text = 'The quick brown fox jumps over the lazy dog.'\n",
    "\n",
    "# Searched words\n",
    "searched_words = ['fox', 'dog', 'horse']\n",
    "\n",
    "# Search for the words in the sample text\n",
    "found_words = search_words(sample_text, searched_words)\n",
    "\n",
    "# Print the found words\n",
    "print(\"Found words:\", found_words)"
   ]
  },
  {
   "cell_type": "markdown",
   "id": "0ea641bf",
   "metadata": {},
   "source": [
    "# Question 16"
   ]
  },
  {
   "cell_type": "code",
   "execution_count": 27,
   "id": "134c51c9",
   "metadata": {},
   "outputs": [
    {
     "name": "stdout",
     "output_type": "stream",
     "text": [
      "'fox' found at index 16 in the sample text.\n"
     ]
    }
   ],
   "source": [
    "def search_word_with_location(sample_text, searched_word):\n",
    "    location = sample_text.find(searched_word)\n",
    "    return location\n",
    "\n",
    "sample_text = 'The quick brown fox jumps over the lazy dog.'\n",
    "\n",
    "\n",
    "searched_word = 'fox'\n",
    "\n",
    "\n",
    "location = search_word_with_location(sample_text, searched_word)\n",
    "\n",
    "\n",
    "if location != -1:\n",
    "    print(f\"'{searched_word}' found at index {location} in the sample text.\")\n",
    "else:\n",
    "    print(f\"'{searched_word}' not found in the sample text.\")"
   ]
  },
  {
   "cell_type": "markdown",
   "id": "555b6b65",
   "metadata": {},
   "source": [
    "# Question17"
   ]
  },
  {
   "cell_type": "code",
   "execution_count": 28,
   "id": "0c931fd9",
   "metadata": {},
   "outputs": [
    {
     "name": "stdout",
     "output_type": "stream",
     "text": [
      "Positions of substrings: [7, 22, 36]\n"
     ]
    }
   ],
   "source": [
    "def find_substrings(sample_text, pattern):\n",
    "    positions = []\n",
    "    start = sample_text.find(pattern)\n",
    "    while start != -1:\n",
    "        positions.append(start)\n",
    "        start = sample_text.find(pattern, start + 1)\n",
    "    return positions\n",
    "\n",
    "sample_text = 'Python exercises, PHP exercises, C# exercises'\n",
    "pattern = 'exercises'\n",
    "\n",
    "positions = find_substrings(sample_text, pattern)\n",
    "\n",
    "print(\"Positions of substrings:\", positions)"
   ]
  },
  {
   "cell_type": "markdown",
   "id": "84645ecf",
   "metadata": {},
   "source": [
    "# Question 18"
   ]
  },
  {
   "cell_type": "code",
   "execution_count": 29,
   "id": "fd131469",
   "metadata": {},
   "outputs": [
    {
     "name": "stdout",
     "output_type": "stream",
     "text": [
      "'exercises' found at position 7\n",
      "'exercises' found at position 22\n",
      "'exercises' found at position 36\n"
     ]
    }
   ],
   "source": [
    "def find_occurrences(sample_text, pattern):\n",
    "    occurrences = []\n",
    "    start = 0\n",
    "    while True:\n",
    "        start = sample_text.find(pattern, start)\n",
    "        if start == -1:\n",
    "            break\n",
    "        occurrences.append((pattern, start))\n",
    "        start += 1\n",
    "    return occurrences\n",
    "\n",
    "\n",
    "sample_text = 'Python exercises, PHP exercises, C# exercises'\n",
    "pattern = 'exercises'\n",
    "\n",
    "\n",
    "results = find_occurrences(sample_text, pattern)\n",
    "\n",
    "\n",
    "for result in results:\n",
    "    print(f\"'{result[0]}' found at position {result[1]}\")"
   ]
  },
  {
   "cell_type": "markdown",
   "id": "7c75302b",
   "metadata": {},
   "source": [
    "# Question 19"
   ]
  },
  {
   "cell_type": "code",
   "execution_count": 30,
   "id": "7ab8a6ff",
   "metadata": {},
   "outputs": [
    {
     "name": "stdout",
     "output_type": "stream",
     "text": [
      "Original Date: 2023-04-12\n",
      "Converted Date: 12-04-2023\n"
     ]
    }
   ],
   "source": [
    "from datetime import datetime\n",
    "\n",
    "def convert_date(date_str):\n",
    "    # Parse the date string in yyyy-mm-dd format\n",
    "    date_obj = datetime.strptime(date_str, '%Y-%m-%d')\n",
    "\n",
    "    # Format the date in dd-mm-yyyy format\n",
    "    formatted_date = date_obj.strftime('%d-%m-%Y')\n",
    "\n",
    "    return formatted_date\n",
    "\n",
    "date_str = '2023-04-12'\n",
    "converted_date = convert_date(date_str)\n",
    "print(\"Original Date:\", date_str)\n",
    "print(\"Converted Date:\", converted_date)"
   ]
  },
  {
   "cell_type": "markdown",
   "id": "4518f141",
   "metadata": {},
   "source": [
    "# Question 20"
   ]
  },
  {
   "cell_type": "code",
   "execution_count": 33,
   "id": "9016d7f8",
   "metadata": {},
   "outputs": [
    {
     "name": "stdout",
     "output_type": "stream",
     "text": [
      "Enter a string containing decimal numbers: 2.035\n",
      "Decimal numbers with precision of 1 or 2: []\n"
     ]
    }
   ],
   "source": [
    "import re\n",
    "\n",
    "def find_decimal_numbers(text):\n",
    "    pattern = re.compile(r'\\b\\d+\\.\\d{1,2}\\b')\n",
    "    return pattern.findall(text)\n",
    "\n",
    "user_input = input(\"Enter a string containing decimal numbers: \")\n",
    "\n",
    "decimal_numbers = find_decimal_numbers(user_input)\n",
    "\n",
    "print(\"Decimal numbers with precision of 1 or 2:\", decimal_numbers)"
   ]
  },
  {
   "cell_type": "markdown",
   "id": "f6a870da",
   "metadata": {},
   "source": [
    "# Question 21"
   ]
  },
  {
   "cell_type": "code",
   "execution_count": 37,
   "id": "2bc84eba",
   "metadata": {},
   "outputs": [
    {
     "name": "stdout",
     "output_type": "stream",
     "text": [
      "Numbers and their positions: [('1', 5), ('2', 6), ('3', 7), ('4', 13), ('5', 14), ('6', 15)]\n"
     ]
    }
   ],
   "source": [
    "def separate_numbers_and_positions(input_string):\n",
    "    numbers_and_positions = []\n",
    "    for i, char in enumerate(input_string):\n",
    "        if char.isdigit():\n",
    "            numbers_and_positions.append((char, i))\n",
    "    return numbers_and_positions\n",
    "\n",
    "input_string = \"Hello123World456\"\n",
    "result = separate_numbers_and_positions(input_string)\n",
    "print(\"Numbers and their positions:\", result)"
   ]
  },
  {
   "cell_type": "markdown",
   "id": "6e7ec89b",
   "metadata": {},
   "source": [
    "# Question 22"
   ]
  },
  {
   "cell_type": "code",
   "execution_count": 38,
   "id": "ea373c4b",
   "metadata": {},
   "outputs": [
    {
     "name": "stdout",
     "output_type": "stream",
     "text": [
      "Maximum numeric value: 950\n"
     ]
    }
   ],
   "source": [
    "import re\n",
    "\n",
    "def extract_maximum_numeric_value(text):\n",
    "    \n",
    "    pattern = re.compile(r'\\b\\d+\\b')\n",
    "\n",
    "    numeric_values = [int(match) for match in pattern.findall(text)]\n",
    "\n",
    "    max_value = max(numeric_values)\n",
    "\n",
    "    return max_value\n",
    "\n",
    "\n",
    "sample_text = 'My marks in each semester are: 947, 896, 926, 524, 734, 950, 642'\n",
    "\n",
    "\n",
    "max_numeric_value = extract_maximum_numeric_value(sample_text)\n",
    "\n",
    "print(\"Maximum numeric value:\", max_numeric_value)"
   ]
  },
  {
   "cell_type": "markdown",
   "id": "a7925630",
   "metadata": {},
   "source": [
    "# Question 23"
   ]
  },
  {
   "cell_type": "code",
   "execution_count": 39,
   "id": "e2182c3d",
   "metadata": {},
   "outputs": [
    {
     "name": "stdout",
     "output_type": "stream",
     "text": [
      "Regular Expression Is An Important Topic In Python\n"
     ]
    }
   ],
   "source": [
    "import re\n",
    "\n",
    "def insert_spaces(text):\n",
    "    # Use regular expression to insert spaces before words starting with capital letters\n",
    "    result = re.sub(r'([A-Z][a-z]+)', r' \\1', text)\n",
    "    return result.strip()  # Strip leading and trailing spaces\n",
    "\n",
    "# Sample text\n",
    "sample_text = \"RegularExpressionIsAnImportantTopicInPython\"\n",
    "\n",
    "# Call the function and print the output\n",
    "output = insert_spaces(sample_text)\n",
    "print(output)"
   ]
  },
  {
   "cell_type": "markdown",
   "id": "4cbafc82",
   "metadata": {},
   "source": [
    "# Question 24"
   ]
  },
  {
   "cell_type": "code",
   "execution_count": 40,
   "id": "cb008482",
   "metadata": {},
   "outputs": [
    {
     "name": "stdout",
     "output_type": "stream",
     "text": [
      "Sequences of one upper case letter followed by lower case letters:\n",
      "['The', 'Quick', 'Brown', 'Fox', 'Jumps', 'Over', 'The', 'Lazy', 'Dog']\n"
     ]
    }
   ],
   "source": [
    "import re\n",
    "\n",
    "def find_upper_lower_sequences(text):\n",
    "    pattern = re.compile(r'[A-Z][a-z]+')\n",
    "    sequences = pattern.findall(text)\n",
    "    return sequences\n",
    "\n",
    "# Test the function\n",
    "sample_text = \"The Quick Brown Fox Jumps Over The Lazy Dog\"\n",
    "result = find_upper_lower_sequences(sample_text)\n",
    "print(\"Sequences of one upper case letter followed by lower case letters:\")\n",
    "print(result)"
   ]
  },
  {
   "cell_type": "markdown",
   "id": "2e1eeb43",
   "metadata": {},
   "source": [
    "# Question 25"
   ]
  },
  {
   "cell_type": "code",
   "execution_count": 41,
   "id": "6b30a782",
   "metadata": {},
   "outputs": [
    {
     "name": "stdout",
     "output_type": "stream",
     "text": [
      "Result: Hello hello world\n"
     ]
    }
   ],
   "source": [
    "def remove_continuous_duplicates(sentence):\n",
    "    words = sentence.split()\n",
    "    result = [words[0]]  # Initialize the result with the first word\n",
    "    for i in range(1, len(words)):\n",
    "        # If the current word is different from the previous word, add it to the result\n",
    "        if words[i] != words[i - 1]:\n",
    "            result.append(words[i])\n",
    "    return ' '.join(result)\n",
    "\n",
    "# Test the function\n",
    "sample_text = \"Hello hello world world\"\n",
    "output = remove_continuous_duplicates(sample_text)\n",
    "print(\"Result:\", output)"
   ]
  },
  {
   "cell_type": "code",
   "execution_count": null,
   "id": "e1f10af6",
   "metadata": {},
   "outputs": [],
   "source": []
  }
 ],
 "metadata": {
  "kernelspec": {
   "display_name": "Python 3 (ipykernel)",
   "language": "python",
   "name": "python3"
  },
  "language_info": {
   "codemirror_mode": {
    "name": "ipython",
    "version": 3
   },
   "file_extension": ".py",
   "mimetype": "text/x-python",
   "name": "python",
   "nbconvert_exporter": "python",
   "pygments_lexer": "ipython3",
   "version": "3.10.9"
  }
 },
 "nbformat": 4,
 "nbformat_minor": 5
}
